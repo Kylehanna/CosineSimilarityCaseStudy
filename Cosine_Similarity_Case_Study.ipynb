{
  "cells": [
    {
      "cell_type": "markdown",
      "metadata": {
        "id": "eNSkSfKvSXEE"
      },
      "source": [
        "## Cosine Similarity Calculations\n",
        "Cosine similarity is a measure of similarity between two non-zero vectors of an inner product space that measures the cosine of the angle between them. Similarity measures have a multiude of uses in machine learning projects; they come in handy when matching strings, measuring distance, and extracting features. This similarity measurement is particularly concerned with orientation, rather than magnitude. \n",
        "In this case study, you'll use the cosine similarity to compare both a numeric data within a plane and a text dataset for string matching."
      ]
    },
    {
      "cell_type": "markdown",
      "metadata": {
        "id": "USGZdZYoVu7A"
      },
      "source": [
        "Load the Python modules, including cosine_similarity, from sklearn.metrics.pairwise"
      ]
    },
    {
      "cell_type": "code",
      "execution_count": 2,
      "metadata": {
        "id": "_T-FTjWuSXEF"
      },
      "outputs": [],
      "source": [
        "import numpy as np\n",
        "import pandas as pd\n",
        "import matplotlib.pyplot as plt\n",
        "import matplotlib.cm as cm\n",
        "%matplotlib inline\n",
        "plt.style.use('ggplot')\n",
        "from scipy import spatial\n",
        "from sklearn.metrics.pairwise import cosine_similarity"
      ]
    },
    {
      "cell_type": "markdown",
      "metadata": {
        "id": "woBv3-cmV1R6"
      },
      "source": [
        "**<font color='teal'> Load the distance dataset into a dataframe. </font>**"
      ]
    },
    {
      "cell_type": "code",
      "execution_count": 4,
      "metadata": {
        "colab": {
          "base_uri": "https://localhost:8080/",
          "height": 419
        },
        "id": "irpsaCuGSXEK",
        "outputId": "76995cd0-c5b8-49b0-af08-72697eedac5a"
      },
      "outputs": [
        {
          "output_type": "execute_result",
          "data": {
            "text/html": [
              "\n",
              "  <div id=\"df-8e58bc28-b722-4dc7-8e31-ea3973ed109e\">\n",
              "    <div class=\"colab-df-container\">\n",
              "      <div>\n",
              "<style scoped>\n",
              "    .dataframe tbody tr th:only-of-type {\n",
              "        vertical-align: middle;\n",
              "    }\n",
              "\n",
              "    .dataframe tbody tr th {\n",
              "        vertical-align: top;\n",
              "    }\n",
              "\n",
              "    .dataframe thead th {\n",
              "        text-align: right;\n",
              "    }\n",
              "</style>\n",
              "<table border=\"1\" class=\"dataframe\">\n",
              "  <thead>\n",
              "    <tr style=\"text-align: right;\">\n",
              "      <th></th>\n",
              "      <th>Unnamed: 0</th>\n",
              "      <th>X</th>\n",
              "      <th>Y</th>\n",
              "      <th>Z</th>\n",
              "      <th>ClusterID</th>\n",
              "    </tr>\n",
              "  </thead>\n",
              "  <tbody>\n",
              "    <tr>\n",
              "      <th>0</th>\n",
              "      <td>0</td>\n",
              "      <td>5.135779</td>\n",
              "      <td>4.167542</td>\n",
              "      <td>5.787635</td>\n",
              "      <td>4</td>\n",
              "    </tr>\n",
              "    <tr>\n",
              "      <th>1</th>\n",
              "      <td>1</td>\n",
              "      <td>4.280721</td>\n",
              "      <td>5.770909</td>\n",
              "      <td>6.091044</td>\n",
              "      <td>4</td>\n",
              "    </tr>\n",
              "    <tr>\n",
              "      <th>2</th>\n",
              "      <td>2</td>\n",
              "      <td>8.329098</td>\n",
              "      <td>7.540436</td>\n",
              "      <td>3.247239</td>\n",
              "      <td>2</td>\n",
              "    </tr>\n",
              "    <tr>\n",
              "      <th>3</th>\n",
              "      <td>3</td>\n",
              "      <td>5.470224</td>\n",
              "      <td>5.069249</td>\n",
              "      <td>5.768313</td>\n",
              "      <td>4</td>\n",
              "    </tr>\n",
              "    <tr>\n",
              "      <th>4</th>\n",
              "      <td>4</td>\n",
              "      <td>2.381797</td>\n",
              "      <td>2.402374</td>\n",
              "      <td>3.879101</td>\n",
              "      <td>1</td>\n",
              "    </tr>\n",
              "    <tr>\n",
              "      <th>...</th>\n",
              "      <td>...</td>\n",
              "      <td>...</td>\n",
              "      <td>...</td>\n",
              "      <td>...</td>\n",
              "      <td>...</td>\n",
              "    </tr>\n",
              "    <tr>\n",
              "      <th>1995</th>\n",
              "      <td>1995</td>\n",
              "      <td>4.616245</td>\n",
              "      <td>4.019561</td>\n",
              "      <td>5.522939</td>\n",
              "      <td>4</td>\n",
              "    </tr>\n",
              "    <tr>\n",
              "      <th>1996</th>\n",
              "      <td>1996</td>\n",
              "      <td>4.753185</td>\n",
              "      <td>5.065076</td>\n",
              "      <td>8.074947</td>\n",
              "      <td>3</td>\n",
              "    </tr>\n",
              "    <tr>\n",
              "      <th>1997</th>\n",
              "      <td>1997</td>\n",
              "      <td>2.000186</td>\n",
              "      <td>2.351911</td>\n",
              "      <td>6.779311</td>\n",
              "      <td>1</td>\n",
              "    </tr>\n",
              "    <tr>\n",
              "      <th>1998</th>\n",
              "      <td>1998</td>\n",
              "      <td>4.735917</td>\n",
              "      <td>5.642677</td>\n",
              "      <td>4.855780</td>\n",
              "      <td>4</td>\n",
              "    </tr>\n",
              "    <tr>\n",
              "      <th>1999</th>\n",
              "      <td>1999</td>\n",
              "      <td>4.955436</td>\n",
              "      <td>5.270550</td>\n",
              "      <td>7.844768</td>\n",
              "      <td>3</td>\n",
              "    </tr>\n",
              "  </tbody>\n",
              "</table>\n",
              "<p>2000 rows × 5 columns</p>\n",
              "</div>\n",
              "      <button class=\"colab-df-convert\" onclick=\"convertToInteractive('df-8e58bc28-b722-4dc7-8e31-ea3973ed109e')\"\n",
              "              title=\"Convert this dataframe to an interactive table.\"\n",
              "              style=\"display:none;\">\n",
              "        \n",
              "  <svg xmlns=\"http://www.w3.org/2000/svg\" height=\"24px\"viewBox=\"0 0 24 24\"\n",
              "       width=\"24px\">\n",
              "    <path d=\"M0 0h24v24H0V0z\" fill=\"none\"/>\n",
              "    <path d=\"M18.56 5.44l.94 2.06.94-2.06 2.06-.94-2.06-.94-.94-2.06-.94 2.06-2.06.94zm-11 1L8.5 8.5l.94-2.06 2.06-.94-2.06-.94L8.5 2.5l-.94 2.06-2.06.94zm10 10l.94 2.06.94-2.06 2.06-.94-2.06-.94-.94-2.06-.94 2.06-2.06.94z\"/><path d=\"M17.41 7.96l-1.37-1.37c-.4-.4-.92-.59-1.43-.59-.52 0-1.04.2-1.43.59L10.3 9.45l-7.72 7.72c-.78.78-.78 2.05 0 2.83L4 21.41c.39.39.9.59 1.41.59.51 0 1.02-.2 1.41-.59l7.78-7.78 2.81-2.81c.8-.78.8-2.07 0-2.86zM5.41 20L4 18.59l7.72-7.72 1.47 1.35L5.41 20z\"/>\n",
              "  </svg>\n",
              "      </button>\n",
              "      \n",
              "  <style>\n",
              "    .colab-df-container {\n",
              "      display:flex;\n",
              "      flex-wrap:wrap;\n",
              "      gap: 12px;\n",
              "    }\n",
              "\n",
              "    .colab-df-convert {\n",
              "      background-color: #E8F0FE;\n",
              "      border: none;\n",
              "      border-radius: 50%;\n",
              "      cursor: pointer;\n",
              "      display: none;\n",
              "      fill: #1967D2;\n",
              "      height: 32px;\n",
              "      padding: 0 0 0 0;\n",
              "      width: 32px;\n",
              "    }\n",
              "\n",
              "    .colab-df-convert:hover {\n",
              "      background-color: #E2EBFA;\n",
              "      box-shadow: 0px 1px 2px rgba(60, 64, 67, 0.3), 0px 1px 3px 1px rgba(60, 64, 67, 0.15);\n",
              "      fill: #174EA6;\n",
              "    }\n",
              "\n",
              "    [theme=dark] .colab-df-convert {\n",
              "      background-color: #3B4455;\n",
              "      fill: #D2E3FC;\n",
              "    }\n",
              "\n",
              "    [theme=dark] .colab-df-convert:hover {\n",
              "      background-color: #434B5C;\n",
              "      box-shadow: 0px 1px 3px 1px rgba(0, 0, 0, 0.15);\n",
              "      filter: drop-shadow(0px 1px 2px rgba(0, 0, 0, 0.3));\n",
              "      fill: #FFFFFF;\n",
              "    }\n",
              "  </style>\n",
              "\n",
              "      <script>\n",
              "        const buttonEl =\n",
              "          document.querySelector('#df-8e58bc28-b722-4dc7-8e31-ea3973ed109e button.colab-df-convert');\n",
              "        buttonEl.style.display =\n",
              "          google.colab.kernel.accessAllowed ? 'block' : 'none';\n",
              "\n",
              "        async function convertToInteractive(key) {\n",
              "          const element = document.querySelector('#df-8e58bc28-b722-4dc7-8e31-ea3973ed109e');\n",
              "          const dataTable =\n",
              "            await google.colab.kernel.invokeFunction('convertToInteractive',\n",
              "                                                     [key], {});\n",
              "          if (!dataTable) return;\n",
              "\n",
              "          const docLinkHtml = 'Like what you see? Visit the ' +\n",
              "            '<a target=\"_blank\" href=https://colab.research.google.com/notebooks/data_table.ipynb>data table notebook</a>'\n",
              "            + ' to learn more about interactive tables.';\n",
              "          element.innerHTML = '';\n",
              "          dataTable['output_type'] = 'display_data';\n",
              "          await google.colab.output.renderOutput(dataTable, element);\n",
              "          const docLink = document.createElement('div');\n",
              "          docLink.innerHTML = docLinkHtml;\n",
              "          element.appendChild(docLink);\n",
              "        }\n",
              "      </script>\n",
              "    </div>\n",
              "  </div>\n",
              "  "
            ],
            "text/plain": [
              "      Unnamed: 0         X         Y         Z  ClusterID\n",
              "0              0  5.135779  4.167542  5.787635          4\n",
              "1              1  4.280721  5.770909  6.091044          4\n",
              "2              2  8.329098  7.540436  3.247239          2\n",
              "3              3  5.470224  5.069249  5.768313          4\n",
              "4              4  2.381797  2.402374  3.879101          1\n",
              "...          ...       ...       ...       ...        ...\n",
              "1995        1995  4.616245  4.019561  5.522939          4\n",
              "1996        1996  4.753185  5.065076  8.074947          3\n",
              "1997        1997  2.000186  2.351911  6.779311          1\n",
              "1998        1998  4.735917  5.642677  4.855780          4\n",
              "1999        1999  4.955436  5.270550  7.844768          3\n",
              "\n",
              "[2000 rows x 5 columns]"
            ]
          },
          "metadata": {},
          "execution_count": 4
        }
      ],
      "source": [
        "df = pd.read_csv('/content/distance_dataset (1).csv')\n",
        "df"
      ]
    },
    {
      "cell_type": "markdown",
      "metadata": {
        "id": "WWd4xbk1SXEO"
      },
      "source": [
        "### Cosine Similarity with clusters and numeric matrices\n",
        "\n",
        "All points in our dataset can be thought of as feature vectors. We illustrate it here as we display the __Cosine Similarity__ between each feature vector in the YZ plane and the [5, 5] vector we chose as reference. The sklearn.metrics.pairwise module provides an efficient way to compute the __cosine_similarity__ for large arrays from which we can compute the similarity."
      ]
    },
    {
      "cell_type": "markdown",
      "metadata": {
        "id": "NeRvhNjLWaau"
      },
      "source": [
        " **<font color='teal'> First, create a 2D and a 3D matrix from the dataframe. The 2D matrix should contain the 'Y' and 'Z' columns and the 3D matrix should contain the 'X','Y', and 'Z' columns.</font>**"
      ]
    },
    {
      "cell_type": "code",
      "execution_count": 5,
      "metadata": {
        "colab": {
          "base_uri": "https://localhost:8080/"
        },
        "id": "aWkrVP8dWqZ-",
        "outputId": "3bf2fdbd-84f2-4ccd-a11b-dd004434dbdf"
      },
      "outputs": [
        {
          "output_type": "execute_result",
          "data": {
            "text/plain": [
              "array([[4.16754224, 5.7876354 ],\n",
              "       [5.77090875, 6.0910442 ],\n",
              "       [7.54043595, 3.2472394 ],\n",
              "       ...,\n",
              "       [2.35191142, 6.77931097],\n",
              "       [5.64267723, 4.85577967],\n",
              "       [5.27055029, 7.84476766]])"
            ]
          },
          "metadata": {},
          "execution_count": 5
        }
      ],
      "source": [
        "matYZ = df[['Y','Z']].values\n",
        "mat = df[[['X','Y','Z']]]"
      ]
    },
    {
      "cell_type": "markdown",
      "metadata": {
        "id": "HlRZpDfzXJR9"
      },
      "source": [
        "Calculate the cosine similarity for those matrices with reference planes of 5,5 and 5,5,5. Then subtract those measures from 1 in new features."
      ]
    },
    {
      "cell_type": "code",
      "execution_count": null,
      "metadata": {
        "id": "QmKPcdIjSXEP"
      },
      "outputs": [],
      "source": [
        "simCosine3D = 1. - cosine_similarity(mat, [[5,5,5]], 'cosine')\n",
        "simCosine = 1. - cosine_similarity(matYZ, [[5,5]], 'cosine')"
      ]
    },
    {
      "cell_type": "markdown",
      "metadata": {
        "id": "EieVXBAcX0OU"
      },
      "source": [
        "Using the 2D matrix and the reference plane of (5,5) we can use a scatter plot to view the way the similarity is calculated using the Cosine angle."
      ]
    },
    {
      "cell_type": "code",
      "execution_count": null,
      "metadata": {
        "id": "Oga4-0A6SXEY"
      },
      "outputs": [],
      "source": [
        "figCosine = plt.figure(figsize=[10,8])\n",
        "\n",
        "plt.scatter(df.Y, df.Z, c=simCosine[:,0], s=20)\n",
        "plt.plot([0,5],[0,5], '--', color='dimgray')\n",
        "plt.plot([0,3],[0,7.2], '--', color='dimgray')\n",
        "plt.text(0.7,2.6,r'$\\theta$ = 22.4 deg.', rotation=47, size=14)\n",
        "plt.ylim([0,10])\n",
        "plt.xlim([0,10])\n",
        "plt.xlabel('Y', size=14)\n",
        "plt.ylabel('Z', size=14)\n",
        "plt.title('Cosine Similarity')\n",
        "cb = plt.colorbar()\n",
        "cb.set_label('Similarity with (5,5)', size=14)\n",
        "\n",
        "#figCosine.savefig('similarity-cosine.png')"
      ]
    },
    {
      "cell_type": "markdown",
      "metadata": {
        "id": "h5EERbkYXioh"
      },
      "source": [
        "Now, plot the 3D matrix with the similarity and the reference plane, (5,5,5)."
      ]
    },
    {
      "cell_type": "code",
      "execution_count": null,
      "metadata": {
        "id": "-f3ZhgoQSXEV"
      },
      "outputs": [],
      "source": [
        "from mpl_toolkits.mplot3d import Axes3D\n",
        "figCosine3D = plt.figure(figsize=(10, 8))\n",
        "ax = figCosine3D.add_subplot(111, projection='3d')\n",
        "\n",
        "p = ax.scatter(mat[:,0], mat[:,1], mat[:,2], c=simCosine3D[:,0])\n",
        "ax.set_xlabel('X')\n",
        "ax.set_ylabel('Y')\n",
        "ax.set_zlabel('Z')\n",
        "cb = figCosine3D.colorbar(p)\n",
        "cb.set_label('Similarity with (5,5,5)', size=14)\n",
        "                                   \n",
        "figCosine3D.tight_layout()\n",
        "#figCosine3D.savefig('cosine-3D.png', dpi=300, transparent=True)"
      ]
    },
    {
      "cell_type": "markdown",
      "metadata": {
        "id": "_ysZ1wFMSXEt"
      },
      "source": [
        "----"
      ]
    },
    {
      "cell_type": "markdown",
      "metadata": {
        "id": "jGJ2vr60SXEu"
      },
      "source": [
        "### Cosine Similarity with text data\n",
        "This is a quick example of how you can use Cosine Similarity to compare different text values or names for record matching or other natural language proecessing needs. \n",
        "First, we use count vectorizer to create a vector for each unique word in our Document 0 and Document 1. "
      ]
    },
    {
      "cell_type": "code",
      "execution_count": null,
      "metadata": {
        "id": "7oSm7linSXEv"
      },
      "outputs": [],
      "source": [
        "from sklearn.feature_extraction.text import CountVectorizer\n",
        "count_vect = CountVectorizer()\n",
        "Document1 = \"Starbucks Coffee\"\n",
        "Document2 = \"Essence of Coffee\"\n",
        "\n",
        "corpus = [Document1,Document2]\n",
        "\n",
        "X_train_counts = count_vect.fit_transform(corpus)\n",
        "\n",
        "pd.DataFrame(X_train_counts.toarray(),columns=count_vect.get_feature_names(),index=['Document 0','Document 1'])"
      ]
    },
    {
      "cell_type": "markdown",
      "metadata": {
        "id": "W99LBHobSXE1"
      },
      "source": [
        "Now, we use a common frequency tool called TF-IDF to convert the vectors to unique measures."
      ]
    },
    {
      "cell_type": "code",
      "execution_count": null,
      "metadata": {
        "id": "mA52-mj9SXE1"
      },
      "outputs": [],
      "source": [
        "from sklearn.feature_extraction.text import TfidfVectorizer\n",
        "vectorizer = TfidfVectorizer()\n",
        "trsfm=vectorizer.fit_transform(corpus)\n",
        "pd.DataFrame(trsfm.toarray(),columns=vectorizer.get_feature_names(),index=['Document 0','Document 1'])"
      ]
    },
    {
      "cell_type": "markdown",
      "metadata": {
        "id": "8T8ZOVnLSXE4"
      },
      "source": [
        "Here, we finally apply the __Cosine Similarity__ measure to calculate how similar Document 0 is compared to any other document in the corpus. Therefore, the first value of 1 is showing that the Document 0 is 100% similar to Document 0 and 0.26055576 is the similarity measure between Document 0 and Document 1."
      ]
    },
    {
      "cell_type": "code",
      "execution_count": null,
      "metadata": {
        "id": "ZLbYTQfnSXE4"
      },
      "outputs": [],
      "source": [
        "cosine_similarity(trsfm[0:1], trsfm)"
      ]
    },
    {
      "cell_type": "markdown",
      "metadata": {
        "id": "uSDf5EgJatlw"
      },
      "source": [
        "Replace the current values for `Document 0` and `Document 1` with your own sentence or paragraph and apply the same steps as we did in the above example."
      ]
    },
    {
      "cell_type": "markdown",
      "metadata": {
        "id": "S9FESS0IbF9I"
      },
      "source": [
        " **<font color='teal'> Combine the documents into a corpus.</font>**"
      ]
    },
    {
      "cell_type": "code",
      "execution_count": null,
      "metadata": {
        "id": "7aVkjj-xczS-"
      },
      "outputs": [],
      "source": [
        ""
      ]
    },
    {
      "cell_type": "markdown",
      "metadata": {
        "id": "Bng2fLV_bR-V"
      },
      "source": [
        " **<font color='teal'> Apply the count vectorizer to the corpus to transform it into vectors.</font>**"
      ]
    },
    {
      "cell_type": "code",
      "execution_count": null,
      "metadata": {
        "id": "FtW2_TcJczuh"
      },
      "outputs": [],
      "source": [
        ""
      ]
    },
    {
      "cell_type": "markdown",
      "metadata": {
        "id": "55i9xWTYbc-r"
      },
      "source": [
        " **<font color='teal'> Convert the vector counts to a dataframe with Pandas.</font>**"
      ]
    },
    {
      "cell_type": "code",
      "execution_count": null,
      "metadata": {
        "id": "OaXsheskc0Ql"
      },
      "outputs": [],
      "source": [
        ""
      ]
    },
    {
      "cell_type": "markdown",
      "metadata": {
        "id": "dONg4uupcJAK"
      },
      "source": [
        " **<font color='teal'> Apply TF-IDF to convert the vectors to unique frequency measures.</font>**"
      ]
    },
    {
      "cell_type": "code",
      "execution_count": null,
      "metadata": {
        "id": "o2z2p_kMc1mF"
      },
      "outputs": [],
      "source": [
        ""
      ]
    },
    {
      "cell_type": "markdown",
      "metadata": {
        "id": "wd1JHVSxcl1D"
      },
      "source": [
        " **<font color='teal'> Use the cosine similarity function to get measures of similarity for the sentences or paragraphs in your original document.</font>**"
      ]
    },
    {
      "cell_type": "code",
      "execution_count": null,
      "metadata": {
        "id": "sJdk5sX5bcPO"
      },
      "outputs": [],
      "source": [
        ""
      ]
    }
  ],
  "metadata": {
    "anaconda-cloud": {},
    "colab": {
      "name": "Cosine Similarity.ipynb",
      "provenance": []
    },
    "kernelspec": {
      "display_name": "Python 3",
      "language": "python",
      "name": "python3"
    },
    "language_info": {
      "codemirror_mode": {
        "name": "ipython",
        "version": 3
      },
      "file_extension": ".py",
      "mimetype": "text/x-python",
      "name": "python",
      "nbconvert_exporter": "python",
      "pygments_lexer": "ipython3",
      "version": "3.7.3"
    }
  },
  "nbformat": 4,
  "nbformat_minor": 0
}